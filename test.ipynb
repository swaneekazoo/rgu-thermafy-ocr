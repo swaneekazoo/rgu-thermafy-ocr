{
 "cells": [
  {
   "cell_type": "code",
   "execution_count": 20,
   "metadata": {
    "collapsed": true,
    "pycharm": {
     "name": "#%%\n"
    }
   },
   "outputs": [],
   "source": [
    "import cv2\n",
    "from pytesseract import image_to_string, image_to_boxes"
   ]
  },
  {
   "cell_type": "code",
   "execution_count": null,
   "outputs": [],
   "source": [
    "def get_text_(filename):\n",
    "    # Read image\n",
    "    img = cv2.imread(filename)\n",
    "    img_rgb = cv2.cvtColor(img, cv2.COLOR_BGR2RGB)\n",
    "\n",
    "    # Print bounding boxes & return text\n",
    "    print(image_to_boxes(img_rgb))\n",
    "    txt = image_to_string(img_rgb)\n",
    "    return txt"
   ],
   "metadata": {
    "collapsed": false,
    "pycharm": {
     "name": "#%%\n"
    }
   }
  },
  {
   "cell_type": "code",
   "execution_count": 21,
   "outputs": [],
   "source": [
    "def get_text(filename):\n",
    "    # Read image\n",
    "    img = cv2.imread(filename)\n",
    "\n",
    "    # OpenCV\n",
    "    HSV_img = cv2.cvtColor(img,cv2.COLOR_BGR2HSV)\n",
    "    h,s,v = cv2.split(HSV_img)\n",
    "    v = cv2.GaussianBlur(v, (1,1), 0)\n",
    "    thresh = cv2.threshold(v, 0, 255, cv2.THRESH_BINARY_INV + cv2.THRESH_OTSU)[1]\n",
    "    cv2.imwrite('{}.png'.format(filename),thresh)\n",
    "    kernel = cv2.getStructuringElement(cv2.MORPH_RECT, ksize=(1, 1))\n",
    "    thresh = cv2.dilate(thresh, kernel)\n",
    "    cv2.imwrite('{}.png'.format(filename),thresh)\n",
    "\n",
    "    # Print bounding boxes & return text\n",
    "    print(image_to_boxes(thresh))\n",
    "    txt = image_to_string(thresh)\n",
    "    return txt"
   ],
   "metadata": {
    "collapsed": false,
    "pycharm": {
     "name": "#%%\n"
    }
   }
  },
  {
   "cell_type": "code",
   "execution_count": 22,
   "outputs": [
    {
     "name": "stdout",
     "output_type": "stream",
     "text": [
      "~ 0 0 300 200 0\n",
      "\n",
      "1: \n",
      " \n",
      "~ 0 0 300 200 0\n",
      "\n",
      "2: \n",
      " \n",
      "~ 0 0 300 200 0\n",
      "\n",
      "3: \n",
      " \n"
     ]
    }
   ],
   "source": [
    "text = get_text('1_crop.png')\n",
    "print('1: \\n ' + text)\n",
    "text = get_text('2_crop.png')\n",
    "print('2: \\n ' + text)\n",
    "text = get_text('3_crop.png')\n",
    "print('3: \\n ' + text)"
   ],
   "metadata": {
    "collapsed": false,
    "pycharm": {
     "name": "#%%\n"
    }
   }
  }
 ],
 "metadata": {
  "kernelspec": {
   "display_name": "Python 3",
   "language": "python",
   "name": "python3"
  },
  "language_info": {
   "codemirror_mode": {
    "name": "ipython",
    "version": 2
   },
   "file_extension": ".py",
   "mimetype": "text/x-python",
   "name": "python",
   "nbconvert_exporter": "python",
   "pygments_lexer": "ipython2",
   "version": "2.7.6"
  }
 },
 "nbformat": 4,
 "nbformat_minor": 0
}